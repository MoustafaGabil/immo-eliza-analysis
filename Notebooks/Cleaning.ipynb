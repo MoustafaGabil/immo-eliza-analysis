{
 "cells": [
  {
   "cell_type": "code",
   "execution_count": 2,
   "metadata": {},
   "outputs": [],
   "source": [
    "import pandas as pd\n",
    "import numpy as np\n"
   ]
  },
  {
   "cell_type": "code",
   "execution_count": null,
   "metadata": {},
   "outputs": [],
   "source": [
    "def cleaning_data(data, cleaned_output_path):\n",
    "    print(f\"Total rows before cleaning: {len(data)}\")\n",
    "    # Removing unnecessarily columns #\n",
    "    data.drop(columns=[\"LifeAnnuitySale\", \"TypeSale\"], inplace=True)\n",
    "    # Removing duplication only of the id and zip_codes matches\n",
    "    data_cleaned = data.drop_duplicates(subset=[\"Property ID\", \"PostalCode\"], keep=False) # keep = fales so, Removes all occurrences of duplicates rather than keeping the first or last instance.\n",
    "\n",
    "    # Remove leading, trailing ,and inside spaces from all string columns\n",
    "    data_cleaned_spaces = data_cleaned.apply(lambda x: x.str.strip() if x.dtype == \"object\" else x)  # using .str.strip() this is only to remove the head and tail spaces\n",
    "     # x.str.replace(r'\\s+', ' ', regex=True) using regex to remove unwanted spaces between words.\n",
    "    data_cleaned_spaces = data_cleaned.apply(lambda x: x.str.replace(r\"\\s+\", \" \", regex=True) if x.dtype == \"object\" else x) \n",
    "    # Filling the empty cells with 'NaN' if it is numeric and 'None' if it is 'string'  to be encoded later in the preprocessing step\n",
    "    data_cleaned_spaces.replace({\"MISSING\": None, \"\": None}, inplace=True)\n",
    "    def fill_missing_values(col):\n",
    "        if col.dtype == \"object\":  # Check if the column is of type object (string) as here \"object == strings\"\n",
    "            return col.where(col.notna(), None) # where: it is a method, which is used for conditional replacement in pandas\n",
    "        else:  # For numeric columns\n",
    "            return col.where(col.notna(), np.nan)  # the missing values are replaced by nan\n",
    "    data_cleaned_final_1 = data_cleaned_spaces.apply(fill_missing_values) # applying the fill_missing_values function on each column on the Datafram.\n",
    "\n",
    "    # Solving the encoding errors for price if it is exists to avoid any errors that can be occured\n",
    "    data_cleaned_final_1[\"Price\"] = data_cleaned_final_1[\"Price\"].replace({\"\\€\": \"\", \",\": \"\"}, regex=True)\n",
    "\n",
    "    # removing raws with empty values as thoes columns are important\n",
    "    columns_to_check = [\n",
    "        \"Region\",\n",
    "        \"Province\",\n",
    "        \"Price\",\n",
    "        \"Property ID\",\n",
    "        \"BedroomCount\",\n",
    "        \"LivingArea\",\n",
    "    ]  \n",
    "    data_cleaned_final = data_cleaned_final_1.dropna(subset=columns_to_check, how=\"any\")\n",
    "\n",
    "    \"\"\" remove rows with empty strings. This is for confirmation, \n",
    "    # it can be useless as explained in the previous 2 comments\".\n",
    "    #however it has to be applied if I used it before conversion \"\"\"\n",
    "    data_cleaned_final = data_cleaned_final[(data_cleaned_final[columns_to_check] != \"\").all(axis=1)] #axis = 1 for rows\n",
    "    print(f\"Total rows after cleaning: {len(data_cleaned_final)}\")\n",
    "    # Saving the cleaned file in the choesen path.\n",
    "    data_cleaned_final.to_csv(cleaned_output_path,index=False,)\n",
    "    return data_cleaned_final\n"
   ]
  },
  {
   "cell_type": "code",
   "execution_count": null,
   "metadata": {},
   "outputs": [
    {
     "data": {
      "text/plain": [
       "Total rows before cleaning: 5752\n",
       "Total rows after cleaning: 5346\n"
      ]
     },
     "metadata": {},
     "output_type": "display_data"
    }
   ],
   "source": [
    "data = pd.read_csv(r\"./Data/properties.csv\")\n",
    "cleaned_data_path = r\"./Data/properties_cleaned.csv\"\n",
    "cleaning_data(data, cleaned_data_path)"
   ]
  },
  {
   "cell_type": "code",
   "execution_count": null,
   "metadata": {},
   "outputs": [],
   "source": []
  }
 ],
 "metadata": {
  "kernelspec": {
   "display_name": "ana_venv",
   "language": "python",
   "name": "python3"
  },
  "language_info": {
   "codemirror_mode": {
    "name": "ipython",
    "version": 3
   },
   "file_extension": ".py",
   "mimetype": "text/x-python",
   "name": "python",
   "nbconvert_exporter": "python",
   "pygments_lexer": "ipython3",
   "version": "3.12.4"
  }
 },
 "nbformat": 4,
 "nbformat_minor": 2
}
