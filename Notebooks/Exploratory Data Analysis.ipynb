{
 "cells": [
  {
   "cell_type": "code",
   "execution_count": 12,
   "metadata": {},
   "outputs": [],
   "source": [
    "import pandas as pd\n",
    "import matplotlib.pyplot as plt\n",
    "import pandas as pd\n"
   ]
  },
  {
   "cell_type": "code",
   "execution_count": 13,
   "metadata": {},
   "outputs": [],
   "source": [
    "data = pd.read_csv('../Data/properties_cleaned.csv')\n"
   ]
  },
  {
   "cell_type": "code",
   "execution_count": 14,
   "metadata": {},
   "outputs": [],
   "source": [
    "import matplotlib.pyplot as plt\n",
    "import pandas as pd\n",
    "\n",
    "def prepare_data(data):\n",
    "    data['Price'] = pd.to_numeric(data['Price'], errors='coerce')\n",
    "    data['LivingArea'] = pd.to_numeric(data['LivingArea'], errors='coerce')\n",
    "\n",
    "    # Remove rows with missing or invalid data\n",
    "    data_cleaned = data.dropna(subset=['Price', 'LivingArea'])\n",
    "    data_cleaned = data_cleaned[data_cleaned['LivingArea'] > 0]\n",
    "\n",
    "    # Calculate price per sqm\n",
    "    data_cleaned['Price_per_sqm'] = data_cleaned['Price'] / data_cleaned['LivingArea']\n",
    "\n",
    "    return data_cleaned\n",
    "\n",
    "\n",
    "def calculate_grouped_stats(data_cleaned):\n",
    "    grouped_stats = data_cleaned.groupby(['Region', 'Province', 'District', 'Locality']).agg(\n",
    "        Average_price=('Price', 'mean'),\n",
    "        Average_price_per_sqm=('Price_per_sqm', 'mean')\n",
    "    ).reset_index()\n",
    "\n",
    "    # Round Average Price per sqm\n",
    "    grouped_stats['Average_price_per_sqm'] = grouped_stats['Average_price_per_sqm'].round(0)\n",
    "\n",
    "    return grouped_stats\n",
    "\n",
    "\n",
    "def get_top_localities_per_region(df, n=5):\n",
    "    cheapest = df.groupby('Region').apply(lambda x: x.nsmallest(n, 'Average_price_per_sqm')).reset_index(drop=True)\n",
    "    most_expensive = df.groupby('Region').apply(lambda x: x.nlargest(n, 'Average_price_per_sqm')).reset_index(drop=True)\n",
    "    return cheapest, most_expensive\n",
    "\n",
    "def plot_localities(data, title, xlabel, ylabel, output_file=None):\n",
    "    plt.figure(figsize=(12, 8))\n",
    "    for region in data['Region'].unique():\n",
    "        region_data = data[data['Region'] == region]\n",
    "        plt.bar(region_data['Locality'], region_data['Average_price_per_sqm'], label=region)\n",
    "\n",
    "    plt.title(title)\n",
    "    plt.xlabel(xlabel)\n",
    "    plt.ylabel(ylabel)\n",
    "    plt.xticks(rotation=90)  # Rotate x-axis labels for better readability\n",
    "    plt.legend(title='Region', bbox_to_anchor=(1.05, 1), loc='upper left')\n",
    "    plt.tight_layout()\n",
    "\n",
    "    # Save or show the plot\n",
    "    if output_file:\n",
    "        plt.savefig(output_file, bbox_inches='tight')\n",
    "        print(f\"Plot saved to {output_file}\")\n",
    "    else:\n",
    "        plt.show()\n",
    "\n",
    "    plt.close()\n",
    "\n",
    "\n"
   ]
  },
  {
   "cell_type": "code",
   "execution_count": 15,
   "metadata": {},
   "outputs": [
    {
     "name": "stdout",
     "output_type": "stream",
     "text": [
      "Plot saved to ../Results/Graphs/cheapest_localities.png\n",
      "Plot saved to ../Results/Graphs/most_expensive_localities.png\n"
     ]
    }
   ],
   "source": [
    "\n",
    "data_cleaned = prepare_data(data)\n",
    "grouped_stats = calculate_grouped_stats(data_cleaned)\n",
    "cheapest_localities, most_expensive_localities = get_top_localities_per_region(grouped_stats)\n",
    "\n",
    "# Plotting\n",
    "plot_localities(\n",
    "    cheapest_localities,\n",
    "    title=\"Cheapest localities by region\",\n",
    "    xlabel=\"Locality\",\n",
    "    ylabel=\"Avg Price per sqm (€)\",\n",
    "    output_file=\"../Results/Graphs/cheapest_localities.png\"\n",
    ")\n",
    "\n",
    "plot_localities(\n",
    "    most_expensive_localities,\n",
    "    title=\"Most expensive localities by region\",\n",
    "    xlabel=\"Locality\",\n",
    "    ylabel=\"Avg Price per sqm (€)\",\n",
    "    output_file=\"../Results/Graphs/most_expensive_localities.png\"\n",
    ")\n"
   ]
  },
  {
   "cell_type": "code",
   "execution_count": null,
   "metadata": {},
   "outputs": [],
   "source": []
  }
 ],
 "metadata": {
  "kernelspec": {
   "display_name": "base",
   "language": "python",
   "name": "python3"
  },
  "language_info": {
   "codemirror_mode": {
    "name": "ipython",
    "version": 3
   },
   "file_extension": ".py",
   "mimetype": "text/x-python",
   "name": "python",
   "nbconvert_exporter": "python",
   "pygments_lexer": "ipython3",
   "version": "3.10.9"
  }
 },
 "nbformat": 4,
 "nbformat_minor": 2
}
