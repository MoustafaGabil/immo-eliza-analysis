{
 "cells": [
  {
   "cell_type": "code",
   "execution_count": 2,
   "metadata": {},
   "outputs": [],
   "source": [
    "import numpy as np\n",
    "import pandas as pd\n",
    "import matplotlib\n",
    "import seaborn as sns\n",
    "import matplotlib.pyplot as plt\n",
    "from matplotlib.ticker import FuncFormatter\n",
    "import warnings\n"
   ]
  },
  {
   "cell_type": "code",
   "execution_count": 3,
   "metadata": {},
   "outputs": [],
   "source": [
    "data_totl = pd.read_csv(r\"Results\\Data_after_outliers_removal\\Houses_and_Apartments_combined_without_outliers.csv\")"
   ]
  },
  {
   "cell_type": "code",
   "execution_count": 4,
   "metadata": {},
   "outputs": [],
   "source": [
    "\n",
    "# Filter the DataFrame for a specific region\n",
    "df_brussels = data_totl[data_totl['Region'] == 'Brussels']\n",
    "df_flanders = data_totl[data_totl['Region'] == 'Flanders']\n",
    "df_Wallonie =data_totl[data_totl['Region'] == 'Wallonie']"
   ]
  },
  {
   "cell_type": "code",
   "execution_count": 5,
   "metadata": {},
   "outputs": [
    {
     "name": "stderr",
     "output_type": "stream",
     "text": [
      "C:\\Users\\mgabi\\AppData\\Local\\Temp\\ipykernel_32776\\1440957261.py:24: FutureWarning: Downcasting behavior in `replace` is deprecated and will be removed in a future version. To retain the old behavior, explicitly call `result.infer_objects(copy=False)`. To opt-in to the future behavior, set `pd.set_option('future.no_silent_downcasting', True)`\n",
      "  data_totl['KitchenType_Q'] = data_totl['KitchenType'].replace(kitchen_type_assig)\n",
      "C:\\Users\\mgabi\\AppData\\Local\\Temp\\ipykernel_32776\\1440957261.py:25: FutureWarning: Downcasting behavior in `replace` is deprecated and will be removed in a future version. To retain the old behavior, explicitly call `result.infer_objects(copy=False)`. To opt-in to the future behavior, set `pd.set_option('future.no_silent_downcasting', True)`\n",
      "  data_totl['building_cond_Q'] = data_totl['StateBuilding'].replace(building_con)\n"
     ]
    }
   ],
   "source": [
    "# Dictionary to map kitchen types to numerical values\n",
    "kitchen_type_assig = {\n",
    "    \"NOT_INSTALLED\": 0,\n",
    "    \"USA_UNINSTALLED\": 0,\n",
    "    \"SEMI_EQUIPPED\": 1,\n",
    "    \"USA_SEMI_EQUIPPED\": 2,\n",
    "    \"INSTALLED\": 3,\n",
    "    \"USA_INSTALLED\": 4,\n",
    "    \"HYPER_EQUIPPED\": 5,\n",
    "    \"USA_HYPER_EQUIPPED\": 6\n",
    "}\n",
    "\n",
    "# Dictionary to map building conditions to numerical values\n",
    "building_con = {\n",
    "    \"TO_RESTORE\": 0,\n",
    "    \"TO_RENOVATE\": 0,\n",
    "    \"TO_BE_DONE_UP\": 1,\n",
    "    \"GOOD\": 3,\n",
    "    \"JUST_RENOVATED\": 4,\n",
    "    \"AS_NEW\": 5\n",
    "}\n",
    "\n",
    "# Applying the mapping to the columns in the dataframe\n",
    "data_totl['KitchenType_Q'] = data_totl['KitchenType'].replace(kitchen_type_assig)\n",
    "data_totl['building_cond_Q'] = data_totl['StateBuilding'].replace(building_con)\n"
   ]
  },
  {
   "cell_type": "code",
   "execution_count": 6,
   "metadata": {},
   "outputs": [
    {
     "data": {
      "text/plain": [
       "Plot saved to Results\\Heat_Maps\\Correlation Matrix Heatmap for ALL Properties.png\n",
       "Plot saved to Results\\Heat_Maps\\Correlation Matrix Heatmap for HOUSE.png\n",
       "Plot saved to Results\\Heat_Maps\\Correlation Matrix Heatmap for APARTMENT.png\n",
       "Plot saved to Results\\Heat_Maps\\Correlation Matrix Heatmap for houses and apartments in Brussels.png\n",
       "Plot saved to Results\\Heat_Maps\\Correlation Matrix Heatmap for houses and apartments in Flanders.png\n",
       "Plot saved to Results\\Heat_Maps\\Correlation Matrix Heatmap for houses and apartments in Wallonie.png\n"
      ]
     },
     "metadata": {},
     "output_type": "display_data"
    }
   ],
   "source": [
    "import os\n",
    "\n",
    "def heat_map(data,output_dir):\n",
    "    ############################ for ALL Properties ######################\n",
    "    selected_parameters = data[['Price', 'FacadeCount', 'BedroomCount', 'LivingArea','Terrace_Area','Garden_Area','ConstructionYear','KitchenType_Q','building_cond_Q']]\n",
    "    correlation_matrix = selected_parameters.corr(method='spearman')\n",
    "    plt.figure(figsize=(8,6))\n",
    "    sns.heatmap(correlation_matrix, annot=True, cmap='coolwarm', linewidths=0.5)\n",
    "    name='Correlation Matrix Heatmap for ALL Properties'\n",
    "    plt.title(name)\n",
    "    if output_dir:\n",
    "        plot_filename = os.path.join(output_dir, name +'.png')\n",
    "        plt.savefig(plot_filename, bbox_inches='tight')\n",
    "        print(f\"Plot saved to {plot_filename}\")\n",
    "    else:\n",
    "        plt.show()\n",
    "        \n",
    "    ############################ For Houses and Apartments ###############\n",
    "    PropertySubtype = ['HOUSE','APARTMENT']\n",
    "    for property in PropertySubtype:\n",
    "        data =data_totl[data_totl['PropertySubtype']== property] \n",
    "        correlation_matrix = selected_parameters.corr(method='spearman')\n",
    "        plt.figure(figsize=(8,6))\n",
    "        sns.heatmap(correlation_matrix, annot=True, cmap='coolwarm', linewidths=0.5)\n",
    "        map_title = f'Correlation Matrix Heatmap for {property}'\n",
    "        plt.title(map_title)\n",
    "        if output_dir:\n",
    "            plot_filename = os.path.join(output_dir, map_title +'.png')\n",
    "            plt.savefig(plot_filename, bbox_inches='tight')\n",
    "            print(f\"Plot saved to {plot_filename}\")\n",
    "        else:\n",
    "            plt.show()\n",
    "            \n",
    "    ############################ per region ############################\n",
    "    regions = ['Brussels','Flanders','Wallonie']\n",
    "    for region in regions:\n",
    "        data =data_totl[data_totl['Region'] == region] \n",
    "        correlation_matrix = selected_parameters.corr(method='spearman')\n",
    "        plt.figure(figsize=(8,6))\n",
    "        sns.heatmap(correlation_matrix, annot=True, cmap='coolwarm', linewidths=0.5)\n",
    "        map_title = f'Correlation Matrix Heatmap for houses and apartments in {region}'\n",
    "        plt.title(map_title)\n",
    "        if output_dir:\n",
    "            plot_filename = os.path.join(output_dir, map_title +'.png')\n",
    "            plt.savefig(plot_filename, bbox_inches='tight')\n",
    "            print(f\"Plot saved to {plot_filename}\")\n",
    "        else:\n",
    "            plt.show()\n",
    "    \n",
    "\n",
    "heat_map(data=data_totl, output_dir='Results\\Heat_Maps')"
   ]
  }
 ],
 "metadata": {
  "kernelspec": {
   "display_name": "ana_venv",
   "language": "python",
   "name": "python3"
  },
  "language_info": {
   "codemirror_mode": {
    "name": "ipython",
    "version": 3
   },
   "file_extension": ".py",
   "mimetype": "text/x-python",
   "name": "python",
   "nbconvert_exporter": "python",
   "pygments_lexer": "ipython3",
   "version": "3.12.4"
  }
 },
 "nbformat": 4,
 "nbformat_minor": 2
}
